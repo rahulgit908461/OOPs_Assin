{
 "cells": [
  {
   "cell_type": "code",
   "execution_count": 1,
   "id": "2583f6e2-b83e-4387-90a4-ca24e7c86773",
   "metadata": {},
   "outputs": [],
   "source": [
    "#Q1. Which function is used to open a file? What are the different modes of opening a file? Explain each mode\n",
    "#of file opening."
   ]
  },
  {
   "cell_type": "code",
   "execution_count": 2,
   "id": "46e7f563-51cb-4e5d-9902-ada71403fc22",
   "metadata": {},
   "outputs": [],
   "source": [
    "#The fopen() function is used to create a file or open an existing file: fp = fopen(const char filename,const \n",
    "#char mode)\n",
    "# r \tOpen a file for reading. (default)\n",
    "# w\tOpen a file for writing. Creates a new file if it does not exist or truncates the file if it exists.\n",
    "# x\tOpen a file for exclusive creation. If the file already exists, the operation fails."
   ]
  },
  {
   "cell_type": "code",
   "execution_count": 3,
   "id": "6c57f740-7aea-464e-84fb-236a141a74ed",
   "metadata": {},
   "outputs": [],
   "source": [
    "#Q2. Why close() function is used? Why is it important to close a file?"
   ]
  },
  {
   "cell_type": "code",
   "execution_count": 4,
   "id": "e797ba8a-30b5-4070-85e9-c4f7f42fd0ea",
   "metadata": {},
   "outputs": [],
   "source": [
    "#Calling close() more than once is allowed. Python automatically closes a file when the reference object of a file\n",
    "#is reassigned to another file.\n",
    "\n",
    "#The close() method closes an open file. You should always close your files, in some cases, due to buffering, \n",
    "#changes made to a file may not show until you close the file."
   ]
  },
  {
   "cell_type": "code",
   "execution_count": 10,
   "id": "f8a38a42-5775-4cbd-9e65-54f973c2d8ad",
   "metadata": {},
   "outputs": [],
   "source": [
    "#Q4. Explain the following with python code: read(), readline() and readlines()."
   ]
  },
  {
   "cell_type": "code",
   "execution_count": 11,
   "id": "c31be6b9-ab7c-47a2-a542-6fa1f89cdd33",
   "metadata": {},
   "outputs": [],
   "source": [
    "#Read ( ): Returns the read bytes in the form of a string. Reads n bytes; if n is not specified, then reads the\n",
    "#entire file\n",
    "#Readline ( ): Reads a line of the file and returns in the form of a string. For specified n, reads at most n bytes.\n",
    "\n",
    "#The readlines() method returns a list containing each line in the file as a list item."
   ]
  },
  {
   "cell_type": "code",
   "execution_count": 12,
   "id": "ab4dc406-930a-4b70-9842-6bcf0caefb5a",
   "metadata": {},
   "outputs": [],
   "source": [
    "#Q5. Explain why with statement is used with open(). What is the advantage of using with statement and\n",
    "#open() together?"
   ]
  },
  {
   "cell_type": "code",
   "execution_count": 13,
   "id": "764da4d6-978e-41dd-8342-905b742468c7",
   "metadata": {},
   "outputs": [],
   "source": [
    "#The with statement works with the open() function to open a file. Unlike open() where you have to close the file\n",
    "#with the close() method, the with statement closes the file for you without you telling it to.\n",
    "\n",
    "#The with statement works with the open() function to open a file. Unlike open() where you have to close the file \n",
    "#with the close() method, the with statement closes the file for you without you telling it to. This is because the\n",
    "#with statement calls 2 built-in methods behind the scene – __enter()__ and __exit()__ ."
   ]
  },
  {
   "cell_type": "code",
   "execution_count": 14,
   "id": "f8a88832-3e17-40d7-9e43-dfd1f0f79c8e",
   "metadata": {},
   "outputs": [],
   "source": [
    "#Q6. Explain the write() and writelines() functions. Give a suitable example."
   ]
  },
  {
   "cell_type": "code",
   "execution_count": 15,
   "id": "e777d89c-ecce-4a58-ba1e-c5461f3015ce",
   "metadata": {},
   "outputs": [],
   "source": [
    "#The write() method accepts a string as an argument and writes this string to the text file. Whereas, the \n",
    "#writelines() method accepts an iterable i.e. a string or the list of strings as an argument and writes these\n",
    "#strings to the text file.\n",
    "\n",
    "#The write() method accepts a string as an argument and writes this string to the text file. Whereas, the \n",
    "#writelines() method accepts an iterable i.e. a string or the list of strings as an argument and writes these \n",
    "#strings to the text file."
   ]
  },
  {
   "cell_type": "code",
   "execution_count": null,
   "id": "7fcdd405-1f09-42fa-9370-42ae8e4315ef",
   "metadata": {},
   "outputs": [],
   "source": []
  }
 ],
 "metadata": {
  "kernelspec": {
   "display_name": "Python 3 (ipykernel)",
   "language": "python",
   "name": "python3"
  },
  "language_info": {
   "codemirror_mode": {
    "name": "ipython",
    "version": 3
   },
   "file_extension": ".py",
   "mimetype": "text/x-python",
   "name": "python",
   "nbconvert_exporter": "python",
   "pygments_lexer": "ipython3",
   "version": "3.10.8"
  }
 },
 "nbformat": 4,
 "nbformat_minor": 5
}
